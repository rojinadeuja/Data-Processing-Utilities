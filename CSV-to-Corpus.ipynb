{
  "nbformat": 4,
  "nbformat_minor": 0,
  "metadata": {
    "colab": {
      "name": "CSV-to-Corpus.ipynb",
      "provenance": [],
      "toc_visible": true,
      "authorship_tag": "ABX9TyOhOeUb3j/pNlErl0Rc2leR",
      "include_colab_link": true
    },
    "kernelspec": {
      "name": "python3",
      "display_name": "Python 3"
    }
  },
  "cells": [
    {
      "cell_type": "markdown",
      "metadata": {
        "id": "view-in-github",
        "colab_type": "text"
      },
      "source": [
        "<a href=\"https://colab.research.google.com/github/rojinadeuja/Data-Processing-Utilities/blob/main/CSV-to-Corpus.ipynb\" target=\"_parent\"><img src=\"https://colab.research.google.com/assets/colab-badge.svg\" alt=\"Open In Colab\"/></a>"
      ]
    },
    {
      "cell_type": "code",
      "metadata": {
        "id": "yFUqmF8TRisU",
        "outputId": "1f51e0eb-d91b-4e2d-87ac-cc8cc484c5c6",
        "colab": {
          "base_uri": "https://localhost:8080/"
        }
      },
      "source": [
        "from google.colab import drive\n",
        "drive.mount('/content/drive')"
      ],
      "execution_count": 1,
      "outputs": [
        {
          "output_type": "stream",
          "text": [
            "Drive already mounted  at /content/drive; to attempt to forcibly remount, call drive.mount(\"/content/drive\", force_remount=True).\n"
          ],
          "name": "stdout"
        }
      ]
    },
    {
      "cell_type": "markdown",
      "metadata": {
        "id": "8ZPSNPacUQ6_"
      },
      "source": [
        "## Corpus\n",
        "A corpus is a collection of text documents, and corpora is the plural of corpus. So a custom corpus is really just a bunch of text files in a directory, often alongside many other directories of text files.\n",
        "\n",
        "To train your own vectors, first you'll need to prepare your corpus as a single text file with all words separated by one or more spaces or tabs. If your corpus has multiple documents, the documents (only) should be separated by new line characters."
      ]
    },
    {
      "cell_type": "markdown",
      "metadata": {
        "id": "b39dq6c6UX04"
      },
      "source": [
        "## Import Modules"
      ]
    },
    {
      "cell_type": "code",
      "metadata": {
        "id": "falQrAwfTMOT"
      },
      "source": [
        "import pandas as pd\n",
        "import numpy as np\n",
        "import re\n",
        "import nltk\n",
        "from nltk.corpus import stopwords"
      ],
      "execution_count": 2,
      "outputs": []
    },
    {
      "cell_type": "markdown",
      "metadata": {
        "id": "Tl_NJ4KqXxiZ"
      },
      "source": [
        "## Load Dataset"
      ]
    },
    {
      "cell_type": "code",
      "metadata": {
        "id": "NF5cMb6rUXOl",
        "outputId": "b3a88cad-9b35-4b7b-ca39-18a78647abb7",
        "colab": {
          "base_uri": "https://localhost:8080/",
          "height": 195
        }
      },
      "source": [
        "df = pd.read_csv('/content/drive/My Drive/Colab Notebooks/IMDB.csv')\n",
        "df.head()"
      ],
      "execution_count": 23,
      "outputs": [
        {
          "output_type": "execute_result",
          "data": {
            "text/html": [
              "<div>\n",
              "<style scoped>\n",
              "    .dataframe tbody tr th:only-of-type {\n",
              "        vertical-align: middle;\n",
              "    }\n",
              "\n",
              "    .dataframe tbody tr th {\n",
              "        vertical-align: top;\n",
              "    }\n",
              "\n",
              "    .dataframe thead th {\n",
              "        text-align: right;\n",
              "    }\n",
              "</style>\n",
              "<table border=\"1\" class=\"dataframe\">\n",
              "  <thead>\n",
              "    <tr style=\"text-align: right;\">\n",
              "      <th></th>\n",
              "      <th>review</th>\n",
              "      <th>sentiment</th>\n",
              "    </tr>\n",
              "  </thead>\n",
              "  <tbody>\n",
              "    <tr>\n",
              "      <th>0</th>\n",
              "      <td>One of the other reviewers has mentioned that ...</td>\n",
              "      <td>positive</td>\n",
              "    </tr>\n",
              "    <tr>\n",
              "      <th>1</th>\n",
              "      <td>A wonderful little production. &lt;br /&gt;&lt;br /&gt;The...</td>\n",
              "      <td>positive</td>\n",
              "    </tr>\n",
              "    <tr>\n",
              "      <th>2</th>\n",
              "      <td>I thought this was a wonderful way to spend ti...</td>\n",
              "      <td>positive</td>\n",
              "    </tr>\n",
              "    <tr>\n",
              "      <th>3</th>\n",
              "      <td>Basically there's a family where a little boy ...</td>\n",
              "      <td>negative</td>\n",
              "    </tr>\n",
              "    <tr>\n",
              "      <th>4</th>\n",
              "      <td>Petter Mattei's \"Love in the Time of Money\" is...</td>\n",
              "      <td>positive</td>\n",
              "    </tr>\n",
              "  </tbody>\n",
              "</table>\n",
              "</div>"
            ],
            "text/plain": [
              "                                              review sentiment\n",
              "0  One of the other reviewers has mentioned that ...  positive\n",
              "1  A wonderful little production. <br /><br />The...  positive\n",
              "2  I thought this was a wonderful way to spend ti...  positive\n",
              "3  Basically there's a family where a little boy ...  negative\n",
              "4  Petter Mattei's \"Love in the Time of Money\" is...  positive"
            ]
          },
          "metadata": {
            "tags": []
          },
          "execution_count": 23
        }
      ]
    },
    {
      "cell_type": "markdown",
      "metadata": {
        "id": "2qgiC6wFX1T7"
      },
      "source": [
        "## Create Document array using text field"
      ]
    },
    {
      "cell_type": "code",
      "metadata": {
        "id": "mZdBXh7_VVj7",
        "outputId": "2a2ff4c6-6318-4972-d907-8e7e79430c22",
        "colab": {
          "base_uri": "https://localhost:8080/"
        }
      },
      "source": [
        "docs_array = df['review']\n",
        "print(\"Dimension of the documents array: \", docs_array.shape)"
      ],
      "execution_count": 24,
      "outputs": [
        {
          "output_type": "stream",
          "text": [
            "Dimension of the documents array:  (50000,)\n"
          ],
          "name": "stdout"
        }
      ]
    },
    {
      "cell_type": "markdown",
      "metadata": {
        "id": "ZNSqY4i4YMQe"
      },
      "source": [
        "## Tokenize the words"
      ]
    },
    {
      "cell_type": "code",
      "metadata": {
        "id": "raM9iNOwZ3bY"
      },
      "source": [
        "# Function for convert a list of sentences to a list of lists containing tokenized words\n",
        "from nltk.stem.wordnet import WordNetLemmatizer\n",
        "from nltk.tokenize import RegexpTokenizer\n",
        "\n",
        "def docs_preprocessor(docs):\n",
        "    tokenizer = RegexpTokenizer(r'\\w+') # Tokenize the words.\n",
        "    \n",
        "    for idx in range(len(docs)):\n",
        "        docs[idx] = docs[idx].lower()  # Convert to lowercase.\n",
        "        docs[idx] = tokenizer.tokenize(docs[idx])  # Split into words.\n",
        "\n",
        "    # Remove numbers, but not words that contain numbers.\n",
        "    docs = [[token for token in doc if not token.isdigit()] for doc in docs]\n",
        "    \n",
        "    # Remove words that are only one character.\n",
        "    docs = [[token for token in doc if len(token) > 3] for doc in docs]\n",
        "    \n",
        "    # Lemmatize all words in documents.\n",
        "    lemmatizer = WordNetLemmatizer()\n",
        "    docs = [[lemmatizer.lemmatize(token) for token in doc] for doc in docs]\n",
        "  \n",
        "    return docs"
      ],
      "execution_count": 25,
      "outputs": []
    },
    {
      "cell_type": "code",
      "metadata": {
        "id": "xCU4VuQEaf2e",
        "outputId": "9be0d5d8-fff1-46e5-f989-681c2bf668ef",
        "colab": {
          "base_uri": "https://localhost:8080/"
        }
      },
      "source": [
        "import nltk\n",
        "nltk.download('wordnet')\n",
        "# Convert a list of sentences to a list of lists containing tokenized words\n",
        "%time docs = docs_preprocessor(docs_array)"
      ],
      "execution_count": 26,
      "outputs": [
        {
          "output_type": "stream",
          "text": [
            "[nltk_data] Downloading package wordnet to /root/nltk_data...\n",
            "[nltk_data]   Package wordnet is already up-to-date!\n",
            "CPU times: user 1min 29s, sys: 1.42 s, total: 1min 31s\n",
            "Wall time: 1min 31s\n"
          ],
          "name": "stdout"
        }
      ]
    },
    {
      "cell_type": "code",
      "metadata": {
        "id": "nXAPcWkIah2N",
        "outputId": "40559cc6-ecae-4729-e7d4-89081fa9d438",
        "colab": {
          "base_uri": "https://localhost:8080/"
        }
      },
      "source": [
        "print(\"Length of the 2D Array of Tokenized Documents: \", len(docs))"
      ],
      "execution_count": 27,
      "outputs": [
        {
          "output_type": "stream",
          "text": [
            "Length of the 2D Array of Tokenized Documents:  50000\n"
          ],
          "name": "stdout"
        }
      ]
    },
    {
      "cell_type": "code",
      "metadata": {
        "id": "M5tiyUha95Vx",
        "outputId": "81a4c012-f394-48c1-b588-238365c23dbe",
        "colab": {
          "base_uri": "https://localhost:8080/"
        }
      },
      "source": [
        "# View tokenized list of words\n",
        "docs[0][0:6]"
      ],
      "execution_count": 28,
      "outputs": [
        {
          "output_type": "execute_result",
          "data": {
            "text/plain": [
              "['other', 'reviewer', 'mentioned', 'that', 'after', 'watching']"
            ]
          },
          "metadata": {
            "tags": []
          },
          "execution_count": 28
        }
      ]
    },
    {
      "cell_type": "markdown",
      "metadata": {
        "id": "pU-tL7xiYpOD"
      },
      "source": [
        "# Option 1: Create corpus with words only"
      ]
    },
    {
      "cell_type": "code",
      "metadata": {
        "id": "xzkNucZ-alsM"
      },
      "source": [
        "# Combine list of lists into a single list\n",
        "from itertools import chain\n",
        "combined_docs = list(chain.from_iterable(docs)) #"
      ],
      "execution_count": 29,
      "outputs": []
    },
    {
      "cell_type": "code",
      "metadata": {
        "id": "q8IxtK98e9D1"
      },
      "source": [
        "# Separate words by whitespace\n",
        "combined_docs_sep = ' '.join(combined_docs)"
      ],
      "execution_count": 30,
      "outputs": []
    },
    {
      "cell_type": "code",
      "metadata": {
        "id": "2QryPTBofBDj",
        "outputId": "4bab5d61-d60c-4548-8e40-8c211d936934",
        "colab": {
          "base_uri": "https://localhost:8080/",
          "height": 35
        }
      },
      "source": [
        "# Check if merged\n",
        "combined_docs_sep[0:100]"
      ],
      "execution_count": 31,
      "outputs": [
        {
          "output_type": "execute_result",
          "data": {
            "application/vnd.google.colaboratory.intrinsic+json": {
              "type": "string"
            },
            "text/plain": [
              "'other reviewer mentioned that after watching just episode hooked they right this exactly what happen'"
            ]
          },
          "metadata": {
            "tags": []
          },
          "execution_count": 31
        }
      ]
    },
    {
      "cell_type": "code",
      "metadata": {
        "id": "ZbfZkFcHfi3L"
      },
      "source": [
        "# Open a file in witre mode and write the list of words to file\n",
        "fo = open(\"word_corpus.txt\", \"w\")\n",
        "fo.writelines(combined_docs_sep)"
      ],
      "execution_count": 32,
      "outputs": []
    },
    {
      "cell_type": "markdown",
      "metadata": {
        "id": "Nig1pxbpZWEy"
      },
      "source": [
        "## Option 2: Create corpus with a single document in each line"
      ]
    },
    {
      "cell_type": "code",
      "metadata": {
        "id": "GAIs0Lueg4Cb"
      },
      "source": [
        "with open('docs_corpus.txt', 'w') as f:\n",
        "  # Loop through each document, add separator and then write to file\n",
        "  for doc in docs:\n",
        "      doc_sep = ' '.join(doc)\n",
        "      f.write(\"%s\\n\" % doc_sep)"
      ],
      "execution_count": 33,
      "outputs": []
    }
  ]
}
